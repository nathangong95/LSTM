{
 "cells": [
  {
   "cell_type": "code",
   "execution_count": null,
   "metadata": {
    "collapsed": true
   },
   "outputs": [],
   "source": [
    "\"\"\" Adding libraries and Modules\n",
    "\"\"\"\n",
    "import sys\n",
    "import os\n",
    "sys.path.insert(0,os.getcwd()+'/Modules/')\n",
    "import LSTM"
   ]
  },
  {
   "cell_type": "raw",
   "metadata": {},
   "source": [
    "The following block will load the data we need to train and test LSTM. The function load_data will take-in one argument, which is the path to the data folder and it will return 3 variable, with \n",
    "1. a list of data, with each element in this list is a M*1*N matrix, M represents the dimensionality of the data and N represents the number of data, and we have 6 this kinda of element in this list\n",
    "2. a list of label, with each element in this list is a k*N matrix, k represent one-hot label with k class and N represents the number of data, and we have 6 this kinda of element in this list\n",
    "3. a list of time stamp. we will use this to calibrate the time of the data"
   ]
  },
  {
   "cell_type": "code",
   "execution_count": null,
   "metadata": {
    "collapsed": true
   },
   "outputs": [],
   "source": [
    "data_path='path/to/your/data/'\n",
    "train_data, train_label, time_stamp=LSTM.loadData(data_path)"
   ]
  },
  {
   "cell_type": "raw",
   "metadata": {},
   "source": [
    "The following block will perform the LSTM training. The function training will takes 4 input\n",
    "1. training data that we load from last block\n",
    "2. training label that we load from last block\n",
    "3. time stamp that we load from last block\n",
    "4. the parameters that we would like to use for LSTM training (No. of hidden units, batch size, and NO. of epoch)\n",
    "And this function will return\n",
    "1. the result data frame to indicate which testing period is hitten\n",
    "2. the prediction of the label for the testing data (also data frame)"
   ]
  },
  {
   "cell_type": "code",
   "execution_count": null,
   "metadata": {
    "collapsed": true
   },
   "outputs": [],
   "source": [
    "params=[64,15,1]\n",
    "result,pred=LSTM.trainning(train_data,train_label,time_stamp,params)"
   ]
  },
  {
   "cell_type": "raw",
   "metadata": {},
   "source": [
    "The following block will perform the evaluating result step, the function evaResult takes in\n",
    "1. the result data frame from last block\n",
    "and it returns \n",
    "1. the hitten rate for testing event\n",
    "2. the average error for the onset prediction\n",
    "3. the average error for the offset prediction"
   ]
  },
  {
   "cell_type": "code",
   "execution_count": null,
   "metadata": {
    "collapsed": true
   },
   "outputs": [],
   "source": [
    "print(LSTM.evaResult(result))\n",
    "for i in range(4):\n",
    "    print(LSTM.evaResult([result[i]]))"
   ]
  }
 ],
 "metadata": {
  "kernelspec": {
   "display_name": "Python 3",
   "language": "python",
   "name": "python3"
  },
  "language_info": {
   "codemirror_mode": {
    "name": "ipython",
    "version": 3
   },
   "file_extension": ".py",
   "mimetype": "text/x-python",
   "name": "python",
   "nbconvert_exporter": "python",
   "pygments_lexer": "ipython3",
   "version": "3.6.3"
  }
 },
 "nbformat": 4,
 "nbformat_minor": 2
}
